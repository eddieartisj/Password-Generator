{
 "cells": [
  {
   "cell_type": "markdown",
   "id": "a1c44e5f",
   "metadata": {},
   "source": [
    "# Password Generation"
   ]
  },
  {
   "cell_type": "code",
   "execution_count": 1,
   "id": "17656518",
   "metadata": {},
   "outputs": [],
   "source": [
    "# Import necessary libraries\n",
    "import random # Provides functions to generate random selections\n",
    "import string # Provides constants for ASCII letters, digits, and punctuation"
   ]
  },
  {
   "cell_type": "code",
   "execution_count": 2,
   "id": "8e8c6818",
   "metadata": {},
   "outputs": [],
   "source": [
    "# Define a function to generate a random password\n",
    "def generate_random_password(length=12): # Default length is 12 characters\n",
    "    characters = string.ascii_letters + string.digits + string.punctuation # Create a pool of chracters: uppercase, lowercase, digits, and special characters\n",
    "    password = ''.join(random.choice(characters) for _ in range(length)) # Generate the password by randomly selecting characters from the pool\n",
    "    return password"
   ]
  },
  {
   "cell_type": "code",
   "execution_count": 3,
   "id": "051dc2a2",
   "metadata": {},
   "outputs": [
    {
     "name": "stdout",
     "output_type": "stream",
     "text": [
      "Random Password: aL~i:{gGI=zz\n"
     ]
    }
   ],
   "source": [
    "# Call the function and store the result in a variable, then print\n",
    "random_password = generate_random_password()\n",
    "print(\"Random Password:\", random_password)"
   ]
  }
 ],
 "metadata": {
  "kernelspec": {
   "display_name": "Python 3 (ipykernel)",
   "language": "python",
   "name": "python3"
  },
  "language_info": {
   "codemirror_mode": {
    "name": "ipython",
    "version": 3
   },
   "file_extension": ".py",
   "mimetype": "text/x-python",
   "name": "python",
   "nbconvert_exporter": "python",
   "pygments_lexer": "ipython3",
   "version": "3.9.13"
  }
 },
 "nbformat": 4,
 "nbformat_minor": 5
}
